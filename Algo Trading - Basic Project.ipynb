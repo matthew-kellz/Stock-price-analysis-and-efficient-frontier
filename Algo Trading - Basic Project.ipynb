{
 "cells": [
  {
   "cell_type": "code",
   "execution_count": 1,
   "id": "ae93eec7",
   "metadata": {},
   "outputs": [],
   "source": [
    "import pandas_datareader as pdr"
   ]
  },
  {
   "cell_type": "code",
   "execution_count": 7,
   "id": "53cac1d9",
   "metadata": {},
   "outputs": [],
   "source": [
    "import pandas\n",
    "import numpy as np\n",
    "import matplotlib\n",
    "import datetime"
   ]
  },
  {
   "cell_type": "code",
   "execution_count": 8,
   "id": "ee4ef008",
   "metadata": {},
   "outputs": [],
   "source": [
    "MSFT = pdr.get_data_yahoo('MSFT', start = '2010, 1, 1', end = '2020, 1, 1')"
   ]
  },
  {
   "cell_type": "code",
   "execution_count": 9,
   "id": "598bc241",
   "metadata": {},
   "outputs": [
    {
     "data": {
      "text/html": [
       "<div>\n",
       "<style scoped>\n",
       "    .dataframe tbody tr th:only-of-type {\n",
       "        vertical-align: middle;\n",
       "    }\n",
       "\n",
       "    .dataframe tbody tr th {\n",
       "        vertical-align: top;\n",
       "    }\n",
       "\n",
       "    .dataframe thead th {\n",
       "        text-align: right;\n",
       "    }\n",
       "</style>\n",
       "<table border=\"1\" class=\"dataframe\">\n",
       "  <thead>\n",
       "    <tr style=\"text-align: right;\">\n",
       "      <th></th>\n",
       "      <th>High</th>\n",
       "      <th>Low</th>\n",
       "      <th>Open</th>\n",
       "      <th>Close</th>\n",
       "      <th>Volume</th>\n",
       "      <th>Adj Close</th>\n",
       "    </tr>\n",
       "    <tr>\n",
       "      <th>Date</th>\n",
       "      <th></th>\n",
       "      <th></th>\n",
       "      <th></th>\n",
       "      <th></th>\n",
       "      <th></th>\n",
       "      <th></th>\n",
       "    </tr>\n",
       "  </thead>\n",
       "  <tbody>\n",
       "    <tr>\n",
       "      <th>2010-01-04</th>\n",
       "      <td>31.100000</td>\n",
       "      <td>30.590000</td>\n",
       "      <td>30.620001</td>\n",
       "      <td>30.950001</td>\n",
       "      <td>38409100.0</td>\n",
       "      <td>23.904985</td>\n",
       "    </tr>\n",
       "    <tr>\n",
       "      <th>2010-01-05</th>\n",
       "      <td>31.100000</td>\n",
       "      <td>30.639999</td>\n",
       "      <td>30.850000</td>\n",
       "      <td>30.959999</td>\n",
       "      <td>49749600.0</td>\n",
       "      <td>23.912704</td>\n",
       "    </tr>\n",
       "    <tr>\n",
       "      <th>2010-01-06</th>\n",
       "      <td>31.080000</td>\n",
       "      <td>30.520000</td>\n",
       "      <td>30.879999</td>\n",
       "      <td>30.770000</td>\n",
       "      <td>58182400.0</td>\n",
       "      <td>23.765953</td>\n",
       "    </tr>\n",
       "    <tr>\n",
       "      <th>2010-01-07</th>\n",
       "      <td>30.700001</td>\n",
       "      <td>30.190001</td>\n",
       "      <td>30.629999</td>\n",
       "      <td>30.450001</td>\n",
       "      <td>50559700.0</td>\n",
       "      <td>23.518797</td>\n",
       "    </tr>\n",
       "    <tr>\n",
       "      <th>2010-01-08</th>\n",
       "      <td>30.879999</td>\n",
       "      <td>30.240000</td>\n",
       "      <td>30.280001</td>\n",
       "      <td>30.660000</td>\n",
       "      <td>51197400.0</td>\n",
       "      <td>23.680992</td>\n",
       "    </tr>\n",
       "  </tbody>\n",
       "</table>\n",
       "</div>"
      ],
      "text/plain": [
       "                 High        Low       Open      Close      Volume  Adj Close\n",
       "Date                                                                         \n",
       "2010-01-04  31.100000  30.590000  30.620001  30.950001  38409100.0  23.904985\n",
       "2010-01-05  31.100000  30.639999  30.850000  30.959999  49749600.0  23.912704\n",
       "2010-01-06  31.080000  30.520000  30.879999  30.770000  58182400.0  23.765953\n",
       "2010-01-07  30.700001  30.190001  30.629999  30.450001  50559700.0  23.518797\n",
       "2010-01-08  30.879999  30.240000  30.280001  30.660000  51197400.0  23.680992"
      ]
     },
     "execution_count": 9,
     "metadata": {},
     "output_type": "execute_result"
    }
   ],
   "source": [
    "MSFT.head(5)"
   ]
  },
  {
   "cell_type": "code",
   "execution_count": 15,
   "id": "6113ffb2",
   "metadata": {},
   "outputs": [],
   "source": [
    "index = ['MSFT', 'AAPL', 'PG']\n",
    "data_comparison = pandas.DataFrame()\n",
    "for i in index:\n",
    "    data_comparison[i] = pdr.get_data_yahoo(i, start = '2010, 1, 1', end = '2021, 1, 1')['Adj Close']"
   ]
  },
  {
   "cell_type": "code",
   "execution_count": 16,
   "id": "0b665557",
   "metadata": {},
   "outputs": [
    {
     "data": {
      "text/html": [
       "<div>\n",
       "<style scoped>\n",
       "    .dataframe tbody tr th:only-of-type {\n",
       "        vertical-align: middle;\n",
       "    }\n",
       "\n",
       "    .dataframe tbody tr th {\n",
       "        vertical-align: top;\n",
       "    }\n",
       "\n",
       "    .dataframe thead th {\n",
       "        text-align: right;\n",
       "    }\n",
       "</style>\n",
       "<table border=\"1\" class=\"dataframe\">\n",
       "  <thead>\n",
       "    <tr style=\"text-align: right;\">\n",
       "      <th></th>\n",
       "      <th>MSFT</th>\n",
       "      <th>AAPL</th>\n",
       "      <th>PG</th>\n",
       "    </tr>\n",
       "    <tr>\n",
       "      <th>Date</th>\n",
       "      <th></th>\n",
       "      <th></th>\n",
       "      <th></th>\n",
       "    </tr>\n",
       "  </thead>\n",
       "  <tbody>\n",
       "    <tr>\n",
       "      <th>2010-01-04</th>\n",
       "      <td>23.904982</td>\n",
       "      <td>6.553026</td>\n",
       "      <td>42.240341</td>\n",
       "    </tr>\n",
       "    <tr>\n",
       "      <th>2010-01-05</th>\n",
       "      <td>23.912706</td>\n",
       "      <td>6.564354</td>\n",
       "      <td>42.254143</td>\n",
       "    </tr>\n",
       "    <tr>\n",
       "      <th>2010-01-06</th>\n",
       "      <td>23.765959</td>\n",
       "      <td>6.459939</td>\n",
       "      <td>42.053722</td>\n",
       "    </tr>\n",
       "    <tr>\n",
       "      <th>2010-01-07</th>\n",
       "      <td>23.518799</td>\n",
       "      <td>6.447997</td>\n",
       "      <td>41.825665</td>\n",
       "    </tr>\n",
       "    <tr>\n",
       "      <th>2010-01-08</th>\n",
       "      <td>23.680992</td>\n",
       "      <td>6.490867</td>\n",
       "      <td>41.770374</td>\n",
       "    </tr>\n",
       "  </tbody>\n",
       "</table>\n",
       "</div>"
      ],
      "text/plain": [
       "                 MSFT      AAPL         PG\n",
       "Date                                      \n",
       "2010-01-04  23.904982  6.553026  42.240341\n",
       "2010-01-05  23.912706  6.564354  42.254143\n",
       "2010-01-06  23.765959  6.459939  42.053722\n",
       "2010-01-07  23.518799  6.447997  41.825665\n",
       "2010-01-08  23.680992  6.490867  41.770374"
      ]
     },
     "execution_count": 16,
     "metadata": {},
     "output_type": "execute_result"
    }
   ],
   "source": [
    "data_comparison.head(5)"
   ]
  },
  {
   "cell_type": "code",
   "execution_count": 17,
   "id": "5ebbab29",
   "metadata": {},
   "outputs": [
    {
     "data": {
      "text/plain": [
       "<AxesSubplot:xlabel='Date'>"
      ]
     },
     "execution_count": 17,
     "metadata": {},
     "output_type": "execute_result"
    },
    {
     "data": {
      "image/png": "[encoded data removed]",
      "text/plain": [
       "<Figure size 720x360 with 1 Axes>"
      ]
     },
     "metadata": {
      "needs_background": "light"
     },
     "output_type": "display_data"
    }
   ],
   "source": [
    "data_comparison.plot(figsize = (10, 5))"
   ]
  },
  {
   "cell_type": "code",
   "execution_count": 18,
   "id": "f25ae620",
   "metadata": {},
   "outputs": [
    {
     "data": {
      "text/html": [
       "<div>\n",
       "<style scoped>\n",
       "    .dataframe tbody tr th:only-of-type {\n",
       "        vertical-align: middle;\n",
       "    }\n",
       "\n",
       "    .dataframe tbody tr th {\n",
       "        vertical-align: top;\n",
       "    }\n",
       "\n",
       "    .dataframe thead th {\n",
       "        text-align: right;\n",
       "    }\n",
       "</style>\n",
       "<table border=\"1\" class=\"dataframe\">\n",
       "  <thead>\n",
       "    <tr style=\"text-align: right;\">\n",
       "      <th></th>\n",
       "      <th>High</th>\n",
       "      <th>Low</th>\n",
       "      <th>Open</th>\n",
       "      <th>Close</th>\n",
       "      <th>Volume</th>\n",
       "      <th>Adj Close</th>\n",
       "    </tr>\n",
       "    <tr>\n",
       "      <th>Date</th>\n",
       "      <th></th>\n",
       "      <th></th>\n",
       "      <th></th>\n",
       "      <th></th>\n",
       "      <th></th>\n",
       "      <th></th>\n",
       "    </tr>\n",
       "  </thead>\n",
       "  <tbody>\n",
       "    <tr>\n",
       "      <th>2010-01-04</th>\n",
       "      <td>31.100000</td>\n",
       "      <td>30.590000</td>\n",
       "      <td>30.620001</td>\n",
       "      <td>30.950001</td>\n",
       "      <td>38409100.0</td>\n",
       "      <td>23.904985</td>\n",
       "    </tr>\n",
       "    <tr>\n",
       "      <th>2010-01-05</th>\n",
       "      <td>31.100000</td>\n",
       "      <td>30.639999</td>\n",
       "      <td>30.850000</td>\n",
       "      <td>30.959999</td>\n",
       "      <td>49749600.0</td>\n",
       "      <td>23.912704</td>\n",
       "    </tr>\n",
       "    <tr>\n",
       "      <th>2010-01-06</th>\n",
       "      <td>31.080000</td>\n",
       "      <td>30.520000</td>\n",
       "      <td>30.879999</td>\n",
       "      <td>30.770000</td>\n",
       "      <td>58182400.0</td>\n",
       "      <td>23.765953</td>\n",
       "    </tr>\n",
       "    <tr>\n",
       "      <th>2010-01-07</th>\n",
       "      <td>30.700001</td>\n",
       "      <td>30.190001</td>\n",
       "      <td>30.629999</td>\n",
       "      <td>30.450001</td>\n",
       "      <td>50559700.0</td>\n",
       "      <td>23.518797</td>\n",
       "    </tr>\n",
       "    <tr>\n",
       "      <th>2010-01-08</th>\n",
       "      <td>30.879999</td>\n",
       "      <td>30.240000</td>\n",
       "      <td>30.280001</td>\n",
       "      <td>30.660000</td>\n",
       "      <td>51197400.0</td>\n",
       "      <td>23.680992</td>\n",
       "    </tr>\n",
       "    <tr>\n",
       "      <th>...</th>\n",
       "      <td>...</td>\n",
       "      <td>...</td>\n",
       "      <td>...</td>\n",
       "      <td>...</td>\n",
       "      <td>...</td>\n",
       "      <td>...</td>\n",
       "    </tr>\n",
       "    <tr>\n",
       "      <th>2019-12-24</th>\n",
       "      <td>157.710007</td>\n",
       "      <td>157.119995</td>\n",
       "      <td>157.479996</td>\n",
       "      <td>157.380005</td>\n",
       "      <td>8989200.0</td>\n",
       "      <td>154.435730</td>\n",
       "    </tr>\n",
       "    <tr>\n",
       "      <th>2019-12-26</th>\n",
       "      <td>158.729996</td>\n",
       "      <td>157.399994</td>\n",
       "      <td>157.559998</td>\n",
       "      <td>158.669998</td>\n",
       "      <td>14520600.0</td>\n",
       "      <td>155.701584</td>\n",
       "    </tr>\n",
       "    <tr>\n",
       "      <th>2019-12-27</th>\n",
       "      <td>159.550003</td>\n",
       "      <td>158.220001</td>\n",
       "      <td>159.449997</td>\n",
       "      <td>158.960007</td>\n",
       "      <td>18412800.0</td>\n",
       "      <td>155.986176</td>\n",
       "    </tr>\n",
       "    <tr>\n",
       "      <th>2019-12-30</th>\n",
       "      <td>159.020004</td>\n",
       "      <td>156.729996</td>\n",
       "      <td>158.990005</td>\n",
       "      <td>157.589996</td>\n",
       "      <td>16348400.0</td>\n",
       "      <td>154.641785</td>\n",
       "    </tr>\n",
       "    <tr>\n",
       "      <th>2019-12-31</th>\n",
       "      <td>157.770004</td>\n",
       "      <td>156.449997</td>\n",
       "      <td>156.770004</td>\n",
       "      <td>157.699997</td>\n",
       "      <td>18369400.0</td>\n",
       "      <td>154.749756</td>\n",
       "    </tr>\n",
       "  </tbody>\n",
       "</table>\n",
       "<p>2516 rows × 6 columns</p>\n",
       "</div>"
      ],
      "text/plain": [
       "                  High         Low        Open       Close      Volume  \\\n",
       "Date                                                                     \n",
       "2010-01-04   31.100000   30.590000   30.620001   30.950001  38409100.0   \n",
       "2010-01-05   31.100000   30.639999   30.850000   30.959999  49749600.0   \n",
       "2010-01-06   31.080000   30.520000   30.879999   30.770000  58182400.0   \n",
       "2010-01-07   30.700001   30.190001   30.629999   30.450001  50559700.0   \n",
       "2010-01-08   30.879999   30.240000   30.280001   30.660000  51197400.0   \n",
       "...                ...         ...         ...         ...         ...   \n",
       "2019-12-24  157.710007  157.119995  157.479996  157.380005   8989200.0   \n",
       "2019-12-26  158.729996  157.399994  157.559998  158.669998  14520600.0   \n",
       "2019-12-27  159.550003  158.220001  159.449997  158.960007  18412800.0   \n",
       "2019-12-30  159.020004  156.729996  158.990005  157.589996  16348400.0   \n",
       "2019-12-31  157.770004  156.449997  156.770004  157.699997  18369400.0   \n",
       "\n",
       "             Adj Close  \n",
       "Date                    \n",
       "2010-01-04   23.904985  \n",
       "2010-01-05   23.912704  \n",
       "2010-01-06   23.765953  \n",
       "2010-01-07   23.518797  \n",
       "2010-01-08   23.680992  \n",
       "...                ...  \n",
       "2019-12-24  154.435730  \n",
       "2019-12-26  155.701584  \n",
       "2019-12-27  155.986176  \n",
       "2019-12-30  154.641785  \n",
       "2019-12-31  154.749756  \n",
       "\n",
       "[2516 rows x 6 columns]"
      ]
     },
     "execution_count": 18,
     "metadata": {},
     "output_type": "execute_result"
    }
   ],
   "source": [
    "MSFT"
   ]
  },
  {
   "cell_type": "code",
   "execution_count": 20,
   "id": "40c74c29",
   "metadata": {},
   "outputs": [],
   "source": [
    "MSFT['simple returns'] = (MSFT['Adj Close']/MSFT['Adj Close'].shift(1))-1"
   ]
  },
  {
   "cell_type": "code",
   "execution_count": 21,
   "id": "11e4cd31",
   "metadata": {},
   "outputs": [
    {
     "data": {
      "text/plain": [
       "<AxesSubplot:xlabel='Date'>"
      ]
     },
     "execution_count": 21,
     "metadata": {},
     "output_type": "execute_result"
    },
    {
     "data": {
      "image/png": "[encoded data removed]",
      "text/plain": [
       "<Figure size 720x360 with 1 Axes>"
      ]
     },
     "metadata": {
      "needs_background": "light"
     },
     "output_type": "display_data"
    }
   ],
   "source": [
    "MSFT['simple returns'].plot(figsize = (10, 5))"
   ]
  },
  {
   "cell_type": "code",
   "execution_count": 22,
   "id": "14a51c01",
   "metadata": {},
   "outputs": [
    {
     "data": {
      "text/plain": [
       "0.0008452286337661341"
      ]
     },
     "execution_count": 22,
     "metadata": {},
     "output_type": "execute_result"
    }
   ],
   "source": [
    "daily_avg_simple = MSFT['simple returns'].mean()\n",
    "daily_avg_simple"
   ]
  },
  {
   "cell_type": "code",
   "execution_count": 23,
   "id": "ecdede31",
   "metadata": {},
   "outputs": [
    {
     "data": {
      "text/plain": [
       "0.21130715844153353"
      ]
     },
     "execution_count": 23,
     "metadata": {},
     "output_type": "execute_result"
    }
   ],
   "source": [
    "annual_avg_simple = daily_avg_simple*250\n",
    "annual_avg_simple"
   ]
  },
  {
   "cell_type": "code",
   "execution_count": 24,
   "id": "94ca6dbb",
   "metadata": {},
   "outputs": [],
   "source": [
    "MSFT['log returns'] = np.log(MSFT['Adj Close']/MSFT['Adj Close'].shift(1))"
   ]
  },
  {
   "cell_type": "code",
   "execution_count": 25,
   "id": "36e4837d",
   "metadata": {},
   "outputs": [
    {
     "data": {
      "text/html": [
       "<div>\n",
       "<style scoped>\n",
       "    .dataframe tbody tr th:only-of-type {\n",
       "        vertical-align: middle;\n",
       "    }\n",
       "\n",
       "    .dataframe tbody tr th {\n",
       "        vertical-align: top;\n",
       "    }\n",
       "\n",
       "    .dataframe thead th {\n",
       "        text-align: right;\n",
       "    }\n",
       "</style>\n",
       "<table border=\"1\" class=\"dataframe\">\n",
       "  <thead>\n",
       "    <tr style=\"text-align: right;\">\n",
       "      <th></th>\n",
       "      <th>High</th>\n",
       "      <th>Low</th>\n",
       "      <th>Open</th>\n",
       "      <th>Close</th>\n",
       "      <th>Volume</th>\n",
       "      <th>Adj Close</th>\n",
       "      <th>simple returns</th>\n",
       "      <th>log returns</th>\n",
       "    </tr>\n",
       "    <tr>\n",
       "      <th>Date</th>\n",
       "      <th></th>\n",
       "      <th></th>\n",
       "      <th></th>\n",
       "      <th></th>\n",
       "      <th></th>\n",
       "      <th></th>\n",
       "      <th></th>\n",
       "      <th></th>\n",
       "    </tr>\n",
       "  </thead>\n",
       "  <tbody>\n",
       "    <tr>\n",
       "      <th>2010-01-04</th>\n",
       "      <td>31.100000</td>\n",
       "      <td>30.590000</td>\n",
       "      <td>30.620001</td>\n",
       "      <td>30.950001</td>\n",
       "      <td>38409100.0</td>\n",
       "      <td>23.904985</td>\n",
       "      <td>NaN</td>\n",
       "      <td>NaN</td>\n",
       "    </tr>\n",
       "    <tr>\n",
       "      <th>2010-01-05</th>\n",
       "      <td>31.100000</td>\n",
       "      <td>30.639999</td>\n",
       "      <td>30.850000</td>\n",
       "      <td>30.959999</td>\n",
       "      <td>49749600.0</td>\n",
       "      <td>23.912704</td>\n",
       "      <td>0.000323</td>\n",
       "      <td>0.000323</td>\n",
       "    </tr>\n",
       "    <tr>\n",
       "      <th>2010-01-06</th>\n",
       "      <td>31.080000</td>\n",
       "      <td>30.520000</td>\n",
       "      <td>30.879999</td>\n",
       "      <td>30.770000</td>\n",
       "      <td>58182400.0</td>\n",
       "      <td>23.765953</td>\n",
       "      <td>-0.006137</td>\n",
       "      <td>-0.006156</td>\n",
       "    </tr>\n",
       "    <tr>\n",
       "      <th>2010-01-07</th>\n",
       "      <td>30.700001</td>\n",
       "      <td>30.190001</td>\n",
       "      <td>30.629999</td>\n",
       "      <td>30.450001</td>\n",
       "      <td>50559700.0</td>\n",
       "      <td>23.518797</td>\n",
       "      <td>-0.010400</td>\n",
       "      <td>-0.010454</td>\n",
       "    </tr>\n",
       "    <tr>\n",
       "      <th>2010-01-08</th>\n",
       "      <td>30.879999</td>\n",
       "      <td>30.240000</td>\n",
       "      <td>30.280001</td>\n",
       "      <td>30.660000</td>\n",
       "      <td>51197400.0</td>\n",
       "      <td>23.680992</td>\n",
       "      <td>0.006896</td>\n",
       "      <td>0.006873</td>\n",
       "    </tr>\n",
       "    <tr>\n",
       "      <th>...</th>\n",
       "      <td>...</td>\n",
       "      <td>...</td>\n",
       "      <td>...</td>\n",
       "      <td>...</td>\n",
       "      <td>...</td>\n",
       "      <td>...</td>\n",
       "      <td>...</td>\n",
       "      <td>...</td>\n",
       "    </tr>\n",
       "    <tr>\n",
       "      <th>2019-12-24</th>\n",
       "      <td>157.710007</td>\n",
       "      <td>157.119995</td>\n",
       "      <td>157.479996</td>\n",
       "      <td>157.380005</td>\n",
       "      <td>8989200.0</td>\n",
       "      <td>154.435730</td>\n",
       "      <td>-0.000191</td>\n",
       "      <td>-0.000191</td>\n",
       "    </tr>\n",
       "    <tr>\n",
       "      <th>2019-12-26</th>\n",
       "      <td>158.729996</td>\n",
       "      <td>157.399994</td>\n",
       "      <td>157.559998</td>\n",
       "      <td>158.669998</td>\n",
       "      <td>14520600.0</td>\n",
       "      <td>155.701584</td>\n",
       "      <td>0.008197</td>\n",
       "      <td>0.008163</td>\n",
       "    </tr>\n",
       "    <tr>\n",
       "      <th>2019-12-27</th>\n",
       "      <td>159.550003</td>\n",
       "      <td>158.220001</td>\n",
       "      <td>159.449997</td>\n",
       "      <td>158.960007</td>\n",
       "      <td>18412800.0</td>\n",
       "      <td>155.986176</td>\n",
       "      <td>0.001828</td>\n",
       "      <td>0.001826</td>\n",
       "    </tr>\n",
       "    <tr>\n",
       "      <th>2019-12-30</th>\n",
       "      <td>159.020004</td>\n",
       "      <td>156.729996</td>\n",
       "      <td>158.990005</td>\n",
       "      <td>157.589996</td>\n",
       "      <td>16348400.0</td>\n",
       "      <td>154.641785</td>\n",
       "      <td>-0.008619</td>\n",
       "      <td>-0.008656</td>\n",
       "    </tr>\n",
       "    <tr>\n",
       "      <th>2019-12-31</th>\n",
       "      <td>157.770004</td>\n",
       "      <td>156.449997</td>\n",
       "      <td>156.770004</td>\n",
       "      <td>157.699997</td>\n",
       "      <td>18369400.0</td>\n",
       "      <td>154.749756</td>\n",
       "      <td>0.000698</td>\n",
       "      <td>0.000698</td>\n",
       "    </tr>\n",
       "  </tbody>\n",
       "</table>\n",
       "<p>2516 rows × 8 columns</p>\n",
       "</div>"
      ],
      "text/plain": [
       "                  High         Low        Open       Close      Volume  \\\n",
       "Date                                                                     \n",
       "2010-01-04   31.100000   30.590000   30.620001   30.950001  38409100.0   \n",
       "2010-01-05   31.100000   30.639999   30.850000   30.959999  49749600.0   \n",
       "2010-01-06   31.080000   30.520000   30.879999   30.770000  58182400.0   \n",
       "2010-01-07   30.700001   30.190001   30.629999   30.450001  50559700.0   \n",
       "2010-01-08   30.879999   30.240000   30.280001   30.660000  51197400.0   \n",
       "...                ...         ...         ...         ...         ...   \n",
       "2019-12-24  157.710007  157.119995  157.479996  157.380005   8989200.0   \n",
       "2019-12-26  158.729996  157.399994  157.559998  158.669998  14520600.0   \n",
       "2019-12-27  159.550003  158.220001  159.449997  158.960007  18412800.0   \n",
       "2019-12-30  159.020004  156.729996  158.990005  157.589996  16348400.0   \n",
       "2019-12-31  157.770004  156.449997  156.770004  157.699997  18369400.0   \n",
       "\n",
       "             Adj Close  simple returns  log returns  \n",
       "Date                                                 \n",
       "2010-01-04   23.904985             NaN          NaN  \n",
       "2010-01-05   23.912704        0.000323     0.000323  \n",
       "2010-01-06   23.765953       -0.006137    -0.006156  \n",
       "2010-01-07   23.518797       -0.010400    -0.010454  \n",
       "2010-01-08   23.680992        0.006896     0.006873  \n",
       "...                ...             ...          ...  \n",
       "2019-12-24  154.435730       -0.000191    -0.000191  \n",
       "2019-12-26  155.701584        0.008197     0.008163  \n",
       "2019-12-27  155.986176        0.001828     0.001826  \n",
       "2019-12-30  154.641785       -0.008619    -0.008656  \n",
       "2019-12-31  154.749756        0.000698     0.000698  \n",
       "\n",
       "[2516 rows x 8 columns]"
      ]
     },
     "execution_count": 25,
     "metadata": {},
     "output_type": "execute_result"
    }
   ],
   "source": [
    "MSFT"
   ]
  },
  {
   "cell_type": "code",
   "execution_count": 29,
   "id": "66d74b40",
   "metadata": {},
   "outputs": [],
   "source": [
    "graph = (data_comparison/data_comparison.iloc[0])"
   ]
  },
  {
   "cell_type": "code",
   "execution_count": 30,
   "id": "d4f6b824",
   "metadata": {},
   "outputs": [
    {
     "data": {
      "text/plain": [
       "<AxesSubplot:xlabel='Date'>"
      ]
     },
     "execution_count": 30,
     "metadata": {},
     "output_type": "execute_result"
    },
    {
     "data": {
      "image/png": "[encoded data removed]",
      "text/plain": [
       "<Figure size 720x360 with 1 Axes>"
      ]
     },
     "metadata": {
      "needs_background": "light"
     },
     "output_type": "display_data"
    }
   ],
   "source": [
    "graph.plot(figsize = (10, 5))"
   ]
  },
  {
   "cell_type": "markdown",
   "id": "b67d9d55",
   "metadata": {},
   "source": [
    "Week 2 - Risk"
   ]
  },
  {
   "cell_type": "code",
   "execution_count": 3,
   "id": "e461a07a",
   "metadata": {},
   "outputs": [],
   "source": [
    "ticker = ['AAPL', 'MSFT', 'PG']"
   ]
  },
  {
   "cell_type": "code",
   "execution_count": 4,
   "id": "e538cf73",
   "metadata": {},
   "outputs": [],
   "source": [
    "index_data = pandas.DataFrame()\n",
    "for i in ticker:\n",
    "    index_data[i] = pdr.get_data_yahoo(i, start = '2016, 1, 1')['Adj Close']"
   ]
  },
  {
   "cell_type": "code",
   "execution_count": 5,
   "id": "fa257019",
   "metadata": {},
   "outputs": [
    {
     "data": {
      "text/html": [
       "<div>\n",
       "<style scoped>\n",
       "    .dataframe tbody tr th:only-of-type {\n",
       "        vertical-align: middle;\n",
       "    }\n",
       "\n",
       "    .dataframe tbody tr th {\n",
       "        vertical-align: top;\n",
       "    }\n",
       "\n",
       "    .dataframe thead th {\n",
       "        text-align: right;\n",
       "    }\n",
       "</style>\n",
       "<table border=\"1\" class=\"dataframe\">\n",
       "  <thead>\n",
       "    <tr style=\"text-align: right;\">\n",
       "      <th></th>\n",
       "      <th>AAPL</th>\n",
       "      <th>MSFT</th>\n",
       "      <th>PG</th>\n",
       "    </tr>\n",
       "    <tr>\n",
       "      <th>Date</th>\n",
       "      <th></th>\n",
       "      <th></th>\n",
       "      <th></th>\n",
       "    </tr>\n",
       "  </thead>\n",
       "  <tbody>\n",
       "    <tr>\n",
       "      <th>2016-01-04</th>\n",
       "      <td>24.251438</td>\n",
       "      <td>49.591049</td>\n",
       "      <td>65.451416</td>\n",
       "    </tr>\n",
       "    <tr>\n",
       "      <th>2016-01-05</th>\n",
       "      <td>23.643709</td>\n",
       "      <td>49.817295</td>\n",
       "      <td>65.660210</td>\n",
       "    </tr>\n",
       "    <tr>\n",
       "      <th>2016-01-06</th>\n",
       "      <td>23.181011</td>\n",
       "      <td>48.912346</td>\n",
       "      <td>65.025497</td>\n",
       "    </tr>\n",
       "    <tr>\n",
       "      <th>2016-01-07</th>\n",
       "      <td>22.202665</td>\n",
       "      <td>47.211040</td>\n",
       "      <td>64.457588</td>\n",
       "    </tr>\n",
       "    <tr>\n",
       "      <th>2016-01-08</th>\n",
       "      <td>22.320068</td>\n",
       "      <td>47.355846</td>\n",
       "      <td>63.447048</td>\n",
       "    </tr>\n",
       "    <tr>\n",
       "      <th>...</th>\n",
       "      <td>...</td>\n",
       "      <td>...</td>\n",
       "      <td>...</td>\n",
       "    </tr>\n",
       "    <tr>\n",
       "      <th>2022-01-27</th>\n",
       "      <td>159.220001</td>\n",
       "      <td>299.839996</td>\n",
       "      <td>159.130005</td>\n",
       "    </tr>\n",
       "    <tr>\n",
       "      <th>2022-01-28</th>\n",
       "      <td>170.330002</td>\n",
       "      <td>308.260010</td>\n",
       "      <td>160.500000</td>\n",
       "    </tr>\n",
       "    <tr>\n",
       "      <th>2022-01-31</th>\n",
       "      <td>174.779999</td>\n",
       "      <td>310.980011</td>\n",
       "      <td>160.449997</td>\n",
       "    </tr>\n",
       "    <tr>\n",
       "      <th>2022-02-01</th>\n",
       "      <td>174.610001</td>\n",
       "      <td>308.760010</td>\n",
       "      <td>159.740005</td>\n",
       "    </tr>\n",
       "    <tr>\n",
       "      <th>2022-02-02</th>\n",
       "      <td>174.539993</td>\n",
       "      <td>311.755005</td>\n",
       "      <td>161.830002</td>\n",
       "    </tr>\n",
       "  </tbody>\n",
       "</table>\n",
       "<p>1533 rows × 3 columns</p>\n",
       "</div>"
      ],
      "text/plain": [
       "                  AAPL        MSFT          PG\n",
       "Date                                          \n",
       "2016-01-04   24.251438   49.591049   65.451416\n",
       "2016-01-05   23.643709   49.817295   65.660210\n",
       "2016-01-06   23.181011   48.912346   65.025497\n",
       "2016-01-07   22.202665   47.211040   64.457588\n",
       "2016-01-08   22.320068   47.355846   63.447048\n",
       "...                ...         ...         ...\n",
       "2022-01-27  159.220001  299.839996  159.130005\n",
       "2022-01-28  170.330002  308.260010  160.500000\n",
       "2022-01-31  174.779999  310.980011  160.449997\n",
       "2022-02-01  174.610001  308.760010  159.740005\n",
       "2022-02-02  174.539993  311.755005  161.830002\n",
       "\n",
       "[1533 rows x 3 columns]"
      ]
     },
     "execution_count": 5,
     "metadata": {},
     "output_type": "execute_result"
    }
   ],
   "source": [
    "index_data"
   ]
  },
  {
   "cell_type": "code",
   "execution_count": 8,
   "id": "88c96425",
   "metadata": {},
   "outputs": [],
   "source": [
    "weights = np.array([0.7, 0.2, 0.1])"
   ]
  },
  {
   "cell_type": "code",
   "execution_count": 9,
   "id": "14af534f",
   "metadata": {},
   "outputs": [],
   "source": [
    "returns = (index_data/index_data.shift(1))-1"
   ]
  },
  {
   "cell_type": "code",
   "execution_count": 11,
   "id": "ef9b1efd",
   "metadata": {},
   "outputs": [],
   "source": [
    "annual_returns = returns.mean()*250"
   ]
  },
  {
   "cell_type": "code",
   "execution_count": 12,
   "id": "756e5e2d",
   "metadata": {},
   "outputs": [
    {
     "data": {
      "text/plain": [
       "AAPL    0.365265\n",
       "MSFT    0.335806\n",
       "PG      0.166049\n",
       "dtype: float64"
      ]
     },
     "execution_count": 12,
     "metadata": {},
     "output_type": "execute_result"
    }
   ],
   "source": [
    "annual_returns"
   ]
  },
  {
   "cell_type": "code",
   "execution_count": 14,
   "id": "ff4c4dec",
   "metadata": {},
   "outputs": [],
   "source": [
    "portfolio_return = np.dot(annual_returns, weights)"
   ]
  },
  {
   "cell_type": "code",
   "execution_count": 15,
   "id": "188662eb",
   "metadata": {},
   "outputs": [],
   "source": [
    "log_returns = np.log(index_data/index_data.shift(1))"
   ]
  },
  {
   "cell_type": "code",
   "execution_count": 16,
   "id": "c2512a5a",
   "metadata": {},
   "outputs": [
    {
     "data": {
      "text/html": [
       "<div>\n",
       "<style scoped>\n",
       "    .dataframe tbody tr th:only-of-type {\n",
       "        vertical-align: middle;\n",
       "    }\n",
       "\n",
       "    .dataframe tbody tr th {\n",
       "        vertical-align: top;\n",
       "    }\n",
       "\n",
       "    .dataframe thead th {\n",
       "        text-align: right;\n",
       "    }\n",
       "</style>\n",
       "<table border=\"1\" class=\"dataframe\">\n",
       "  <thead>\n",
       "    <tr style=\"text-align: right;\">\n",
       "      <th></th>\n",
       "      <th>AAPL</th>\n",
       "      <th>MSFT</th>\n",
       "      <th>PG</th>\n",
       "    </tr>\n",
       "    <tr>\n",
       "      <th>Date</th>\n",
       "      <th></th>\n",
       "      <th></th>\n",
       "      <th></th>\n",
       "    </tr>\n",
       "  </thead>\n",
       "  <tbody>\n",
       "    <tr>\n",
       "      <th>2016-01-04</th>\n",
       "      <td>NaN</td>\n",
       "      <td>NaN</td>\n",
       "      <td>NaN</td>\n",
       "    </tr>\n",
       "    <tr>\n",
       "      <th>2016-01-05</th>\n",
       "      <td>-0.025379</td>\n",
       "      <td>0.004552</td>\n",
       "      <td>0.003185</td>\n",
       "    </tr>\n",
       "    <tr>\n",
       "      <th>2016-01-06</th>\n",
       "      <td>-0.019764</td>\n",
       "      <td>-0.018332</td>\n",
       "      <td>-0.009714</td>\n",
       "    </tr>\n",
       "    <tr>\n",
       "      <th>2016-01-07</th>\n",
       "      <td>-0.043121</td>\n",
       "      <td>-0.035402</td>\n",
       "      <td>-0.008772</td>\n",
       "    </tr>\n",
       "    <tr>\n",
       "      <th>2016-01-08</th>\n",
       "      <td>0.005274</td>\n",
       "      <td>0.003063</td>\n",
       "      <td>-0.015802</td>\n",
       "    </tr>\n",
       "    <tr>\n",
       "      <th>...</th>\n",
       "      <td>...</td>\n",
       "      <td>...</td>\n",
       "      <td>...</td>\n",
       "    </tr>\n",
       "    <tr>\n",
       "      <th>2022-01-27</th>\n",
       "      <td>-0.002948</td>\n",
       "      <td>0.010494</td>\n",
       "      <td>0.006178</td>\n",
       "    </tr>\n",
       "    <tr>\n",
       "      <th>2022-01-28</th>\n",
       "      <td>0.067451</td>\n",
       "      <td>0.027695</td>\n",
       "      <td>0.008572</td>\n",
       "    </tr>\n",
       "    <tr>\n",
       "      <th>2022-01-31</th>\n",
       "      <td>0.025790</td>\n",
       "      <td>0.008785</td>\n",
       "      <td>-0.000312</td>\n",
       "    </tr>\n",
       "    <tr>\n",
       "      <th>2022-02-01</th>\n",
       "      <td>-0.000973</td>\n",
       "      <td>-0.007164</td>\n",
       "      <td>-0.004435</td>\n",
       "    </tr>\n",
       "    <tr>\n",
       "      <th>2022-02-02</th>\n",
       "      <td>-0.000401</td>\n",
       "      <td>0.009653</td>\n",
       "      <td>0.012999</td>\n",
       "    </tr>\n",
       "  </tbody>\n",
       "</table>\n",
       "<p>1533 rows × 3 columns</p>\n",
       "</div>"
      ],
      "text/plain": [
       "                AAPL      MSFT        PG\n",
       "Date                                    \n",
       "2016-01-04       NaN       NaN       NaN\n",
       "2016-01-05 -0.025379  0.004552  0.003185\n",
       "2016-01-06 -0.019764 -0.018332 -0.009714\n",
       "2016-01-07 -0.043121 -0.035402 -0.008772\n",
       "2016-01-08  0.005274  0.003063 -0.015802\n",
       "...              ...       ...       ...\n",
       "2022-01-27 -0.002948  0.010494  0.006178\n",
       "2022-01-28  0.067451  0.027695  0.008572\n",
       "2022-01-31  0.025790  0.008785 -0.000312\n",
       "2022-02-01 -0.000973 -0.007164 -0.004435\n",
       "2022-02-02 -0.000401  0.009653  0.012999\n",
       "\n",
       "[1533 rows x 3 columns]"
      ]
     },
     "execution_count": 16,
     "metadata": {},
     "output_type": "execute_result"
    }
   ],
   "source": [
    "log_returns"
   ]
  },
  {
   "cell_type": "code",
   "execution_count": 18,
   "id": "65f6b981",
   "metadata": {},
   "outputs": [
    {
     "data": {
      "text/plain": [
       "MSFT    1293.578839\n",
       "AAPL     685.465216\n",
       "dtype: float64"
      ]
     },
     "execution_count": 18,
     "metadata": {},
     "output_type": "execute_result"
    }
   ],
   "source": [
    "index_data[['MSFT', 'AAPL']].std()*250**0.5"
   ]
  },
  {
   "cell_type": "code",
   "execution_count": 19,
   "id": "5d650625",
   "metadata": {},
   "outputs": [
    {
     "data": {
      "text/plain": [
       "1879.450251010758"
      ]
     },
     "execution_count": 19,
     "metadata": {},
     "output_type": "execute_result"
    }
   ],
   "source": [
    "index_data['AAPL'].var()"
   ]
  },
  {
   "cell_type": "code",
   "execution_count": 20,
   "id": "ed8a2e94",
   "metadata": {},
   "outputs": [
    {
     "data": {
      "text/html": [
       "<div>\n",
       "<style scoped>\n",
       "    .dataframe tbody tr th:only-of-type {\n",
       "        vertical-align: middle;\n",
       "    }\n",
       "\n",
       "    .dataframe tbody tr th {\n",
       "        vertical-align: top;\n",
       "    }\n",
       "\n",
       "    .dataframe thead th {\n",
       "        text-align: right;\n",
       "    }\n",
       "</style>\n",
       "<table border=\"1\" class=\"dataframe\">\n",
       "  <thead>\n",
       "    <tr style=\"text-align: right;\">\n",
       "      <th></th>\n",
       "      <th>AAPL</th>\n",
       "      <th>MSFT</th>\n",
       "    </tr>\n",
       "  </thead>\n",
       "  <tbody>\n",
       "    <tr>\n",
       "      <th>AAPL</th>\n",
       "      <td>1879.450251</td>\n",
       "      <td>3483.380307</td>\n",
       "    </tr>\n",
       "    <tr>\n",
       "      <th>MSFT</th>\n",
       "      <td>3483.380307</td>\n",
       "      <td>6693.384852</td>\n",
       "    </tr>\n",
       "  </tbody>\n",
       "</table>\n",
       "</div>"
      ],
      "text/plain": [
       "             AAPL         MSFT\n",
       "AAPL  1879.450251  3483.380307\n",
       "MSFT  3483.380307  6693.384852"
      ]
     },
     "execution_count": 20,
     "metadata": {},
     "output_type": "execute_result"
    }
   ],
   "source": [
    "index_data[['AAPL', 'MSFT']].cov()"
   ]
  },
  {
   "cell_type": "code",
   "execution_count": 21,
   "id": "65bbcbaa",
   "metadata": {},
   "outputs": [
    {
     "data": {
      "text/html": [
       "<div>\n",
       "<style scoped>\n",
       "    .dataframe tbody tr th:only-of-type {\n",
       "        vertical-align: middle;\n",
       "    }\n",
       "\n",
       "    .dataframe tbody tr th {\n",
       "        vertical-align: top;\n",
       "    }\n",
       "\n",
       "    .dataframe thead th {\n",
       "        text-align: right;\n",
       "    }\n",
       "</style>\n",
       "<table border=\"1\" class=\"dataframe\">\n",
       "  <thead>\n",
       "    <tr style=\"text-align: right;\">\n",
       "      <th></th>\n",
       "      <th>AAPL</th>\n",
       "      <th>MSFT</th>\n",
       "      <th>PG</th>\n",
       "    </tr>\n",
       "  </thead>\n",
       "  <tbody>\n",
       "    <tr>\n",
       "      <th>AAPL</th>\n",
       "      <td>1.000000</td>\n",
       "      <td>0.982116</td>\n",
       "      <td>0.933025</td>\n",
       "    </tr>\n",
       "    <tr>\n",
       "      <th>MSFT</th>\n",
       "      <td>0.982116</td>\n",
       "      <td>1.000000</td>\n",
       "      <td>0.949444</td>\n",
       "    </tr>\n",
       "    <tr>\n",
       "      <th>PG</th>\n",
       "      <td>0.933025</td>\n",
       "      <td>0.949444</td>\n",
       "      <td>1.000000</td>\n",
       "    </tr>\n",
       "  </tbody>\n",
       "</table>\n",
       "</div>"
      ],
      "text/plain": [
       "          AAPL      MSFT        PG\n",
       "AAPL  1.000000  0.982116  0.933025\n",
       "MSFT  0.982116  1.000000  0.949444\n",
       "PG    0.933025  0.949444  1.000000"
      ]
     },
     "execution_count": 21,
     "metadata": {},
     "output_type": "execute_result"
    }
   ],
   "source": [
    "index_data.corr()"
   ]
  },
  {
   "cell_type": "markdown",
   "id": "0c4b82aa",
   "metadata": {},
   "source": [
    "Portfolio Variance"
   ]
  },
  {
   "cell_type": "code",
   "execution_count": 24,
   "id": "f73c13cf",
   "metadata": {},
   "outputs": [],
   "source": [
    "weightsT = np.array([0.6, 0.3])"
   ]
  },
  {
   "cell_type": "code",
   "execution_count": 26,
   "id": "c6f89641",
   "metadata": {},
   "outputs": [],
   "source": [
    "output = np.dot(index_data[['AAPL', 'MSFT']].cov()*250, weightsT)"
   ]
  },
  {
   "cell_type": "code",
   "execution_count": 27,
   "id": "ff59b26e",
   "metadata": {},
   "outputs": [
    {
     "data": {
      "text/plain": [
       "633255.9093696934"
      ]
     },
     "execution_count": 27,
     "metadata": {},
     "output_type": "execute_result"
    }
   ],
   "source": [
    "np.dot(weightsT.T, output)"
   ]
  },
  {
   "cell_type": "code",
   "execution_count": 28,
   "id": "42b71298",
   "metadata": {},
   "outputs": [],
   "source": [
    "weights = np.array([0.7, 0.2, 0.1])"
   ]
  },
  {
   "cell_type": "code",
   "execution_count": 29,
   "id": "94b3d890",
   "metadata": {},
   "outputs": [
    {
     "data": {
      "text/plain": [
       "2409.283230284622"
      ]
     },
     "execution_count": 29,
     "metadata": {},
     "output_type": "execute_result"
    }
   ],
   "source": [
    "np.dot(weights.T, np.dot(index_data.cov(), weights))"
   ]
  },
  {
   "cell_type": "code",
   "execution_count": 35,
   "id": "82714a2f",
   "metadata": {},
   "outputs": [],
   "source": [
    "index = ['AAPL', '^GSPC']\n",
    "data = pandas.DataFrame()\n",
    "for i in index:\n",
    "    data[i] = pdr.get_data_yahoo(i, start = '2016, 1, 1')['Adj Close']"
   ]
  },
  {
   "cell_type": "code",
   "execution_count": 36,
   "id": "4c123fd7",
   "metadata": {},
   "outputs": [
    {
     "data": {
      "text/plain": [
       "<AxesSubplot:xlabel='Date'>"
      ]
     },
     "execution_count": 36,
     "metadata": {},
     "output_type": "execute_result"
    },
    {
     "data": {
      "image/png": "[encoded data removed]",
      "text/plain": [
       "<Figure size 720x360 with 1 Axes>"
      ]
     },
     "metadata": {
      "needs_background": "light"
     },
     "output_type": "display_data"
    }
   ],
   "source": [
    "(data/data.iloc[0]*100).plot(figsize = (10,5))"
   ]
  },
  {
   "cell_type": "code",
   "execution_count": 37,
   "id": "220637eb",
   "metadata": {},
   "outputs": [],
   "source": [
    "sec_returns = np.log(data/data.shift(1))"
   ]
  },
  {
   "cell_type": "code",
   "execution_count": 39,
   "id": "97fe5542",
   "metadata": {},
   "outputs": [],
   "source": [
    "cov = sec_returns.cov()*250"
   ]
  },
  {
   "cell_type": "code",
   "execution_count": 40,
   "id": "b8004473",
   "metadata": {},
   "outputs": [],
   "source": [
    "cov_with_market = cov.iloc[0,1]"
   ]
  },
  {
   "cell_type": "code",
   "execution_count": 41,
   "id": "8afac9d3",
   "metadata": {},
   "outputs": [],
   "source": [
    "market_variance = sec_returns['^GSPC'].var()*250"
   ]
  },
  {
   "cell_type": "code",
   "execution_count": 42,
   "id": "0c47825f",
   "metadata": {},
   "outputs": [],
   "source": [
    "Beta = cov_with_market/market_variance"
   ]
  },
  {
   "cell_type": "markdown",
   "id": "0b476dd5",
   "metadata": {},
   "source": [
    "Simple expected return"
   ]
  },
  {
   "cell_type": "code",
   "execution_count": 43,
   "id": "900eb25d",
   "metadata": {},
   "outputs": [],
   "source": [
    "simple_expected = (0.025 + Beta*(0.072 - 0.025))"
   ]
  },
  {
   "cell_type": "code",
   "execution_count": 44,
   "id": "f7925a6e",
   "metadata": {},
   "outputs": [
    {
     "data": {
      "text/plain": [
       "0.1910260525933768"
      ]
     },
     "execution_count": 44,
     "metadata": {},
     "output_type": "execute_result"
    }
   ],
   "source": [
    "(simple_expected - 0.025)/(sec_returns['AAPL'].std()*250**0.5)"
   ]
  },
  {
   "cell_type": "markdown",
   "id": "73864192",
   "metadata": {},
   "source": [
    "Efficient frontier"
   ]
  },
  {
   "cell_type": "code",
   "execution_count": 47,
   "id": "4be92656",
   "metadata": {},
   "outputs": [],
   "source": [
    "num_assets = len(ticker)"
   ]
  },
  {
   "cell_type": "code",
   "execution_count": 48,
   "id": "5b818289",
   "metadata": {},
   "outputs": [],
   "source": [
    "log_returns = np.log(index_data/index_data.shift(1))"
   ]
  },
  {
   "cell_type": "code",
   "execution_count": 54,
   "id": "38612b55",
   "metadata": {},
   "outputs": [
    {
     "data": {
      "text/plain": [
       "(array([0.27191269, 0.24675766, 0.25482383, ..., 0.24480599, 0.23527288,\n",
       "        0.20355077]),\n",
       " array([0.22314067, 0.20713176, 0.2123662 , ..., 0.20164408, 0.19599222,\n",
       "        0.18408843]))"
      ]
     },
     "execution_count": 54,
     "metadata": {},
     "output_type": "execute_result"
    }
   ],
   "source": [
    "portfolio_returns = []\n",
    "portfolio_volatilities = []\n",
    "\n",
    "for i in range(10000):\n",
    "    weights = np.random.random(num_assets)\n",
    "    weights /= np.sum(weights)\n",
    "    portfolio_returns.append(np.sum(weights*log_returns.mean())*250)\n",
    "    portfolio_volatilities.append(np.sqrt(np.dot(weights.T, np.dot(log_returns.cov()*250, weights))))\n",
    "    \n",
    "    \n",
    "portfolio_returns = np.array(portfolio_returns)\n",
    "portfolio_volatilities = np.array(portfolio_volatilities)\n",
    "\n",
    "portfolio_returns, portfolio_volatilities"
   ]
  },
  {
   "cell_type": "code",
   "execution_count": 55,
   "id": "bb4643c8",
   "metadata": {},
   "outputs": [
    {
     "data": {
      "text/plain": [
       "<matplotlib.collections.PathCollection at 0x7fbeb10c7a00>"
      ]
     },
     "execution_count": 55,
     "metadata": {},
     "output_type": "execute_result"
    },
    {
     "data": {
      "image/png": "[encoded data removed]",
      "text/plain": [
       "<Figure size 432x288 with 1 Axes>"
      ]
     },
     "metadata": {
      "needs_background": "light"
     },
     "output_type": "display_data"
    }
   ],
   "source": [
    "matplotlib.pyplot.scatter(portfolio_volatilities, portfolio_returns)"
   ]
  },
  {
   "cell_type": "code",
   "execution_count": null,
   "id": "06d6222c",
   "metadata": {},
   "outputs": [],
   "source": []
  },
  {
   "cell_type": "code",
   "execution_count": null,
   "id": "2cc13c4a",
   "metadata": {},
   "outputs": [],
   "source": []
  },
  {
   "cell_type": "code",
   "execution_count": null,
   "id": "fc5b415b",
   "metadata": {},
   "outputs": [],
   "source": []
  },
  {
   "cell_type": "code",
   "execution_count": null,
   "id": "946b71ab",
   "metadata": {},
   "outputs": [],
   "source": []
  },
  {
   "cell_type": "code",
   "execution_count": null,
   "id": "80947593",
   "metadata": {},
   "outputs": [],
   "source": []
  },
  {
   "cell_type": "code",
   "execution_count": null,
   "id": "4e651b00",
   "metadata": {},
   "outputs": [],
   "source": []
  },
  {
   "cell_type": "code",
   "execution_count": null,
   "id": "373c9d29",
   "metadata": {},
   "outputs": [],
   "source": []
  },
  {
   "cell_type": "code",
   "execution_count": null,
   "id": "02f23c7f",
   "metadata": {},
   "outputs": [],
   "source": []
  },
  {
   "cell_type": "code",
   "execution_count": null,
   "id": "c7f2d0f5",
   "metadata": {},
   "outputs": [],
   "source": []
  },
  {
   "cell_type": "code",
   "execution_count": null,
   "id": "a31f1be2",
   "metadata": {},
   "outputs": [],
   "source": []
  },
  {
   "cell_type": "code",
   "execution_count": null,
   "id": "9e398ee4",
   "metadata": {},
   "outputs": [],
   "source": []
  },
  {
   "cell_type": "code",
   "execution_count": null,
   "id": "9bd6b1aa",
   "metadata": {},
   "outputs": [],
   "source": []
  },
  {
   "cell_type": "code",
   "execution_count": null,
   "id": "797048b2",
   "metadata": {},
   "outputs": [],
   "source": []
  }
 ],
 "metadata": {
  "kernelspec": {
   "display_name": "Python 3 (ipykernel)",
   "language": "python",
   "name": "python3"
  },
  "language_info": {
   "codemirror_mode": {
    "name": "ipython",
    "version": 3
   },
   "file_extension": ".py",
   "mimetype": "text/x-python",
   "name": "python",
   "nbconvert_exporter": "python",
   "pygments_lexer": "ipython3",
   "version": "3.9.7"
  }
 },
 "nbformat": 4,
 "nbformat_minor": 5
}
